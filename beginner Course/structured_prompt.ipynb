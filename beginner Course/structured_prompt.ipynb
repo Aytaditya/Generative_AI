{
 "cells": [
  {
   "cell_type": "code",
   "execution_count": null,
   "metadata": {},
   "outputs": [],
   "source": [
    "from vertexai.preview.generative_models import GenerativeModel\n",
    "\n",
    "model = GenerativeModel(\"gemini-1.0-pro\")\n",
    "\n",
    "prompt = \"\"\"\n",
    "Cymbal Direct is partnering with an outdoor gear retailer. They\\'re launching a new line of products designed to encourage young people to explore the outdoors. Help them create catchy taglines for this product line.\n",
    "\n",
    "input: \n",
    "Write a tagline for a durable backpack designed for hikers that makes them feel prepared. Consider styles like minimalist.\n",
    "\n",
    "output: Built for the Journey: Your Adventure Essentials.\n",
    "\n",
    "input:Write a tagline for durable utility cargos designed for hickers that make them feel confident. Consider styles like minimalist\n",
    "output: Utility Cargos: Confidence in Every Step\n",
    "\n",
    "input: Write a tagline on hicking clothes.The tagline should contain nature keyword \n",
    "output: Hicking wear: Nature in every step\n",
    "\"\"\"\n",
    "\n",
    "responses = model.generate_content(\n",
    "    prompt,\n",
    "    generation_config={\n",
    "        \"temperature\": 0.5,\n",
    "        \"max_output_tokens\": 2048,\n",
    "        \"top_p\": 1.0,\n",
    "        \"top_k\": 40,\n",
    "    },\n",
    "    stream=True\n",
    "    )\n",
    "\n",
    "for response in responses:\n",
    "    print(response.text)"
   ]
  }
 ],
 "metadata": {
  "language_info": {
   "name": "python"
  }
 },
 "nbformat": 4,
 "nbformat_minor": 2
}
